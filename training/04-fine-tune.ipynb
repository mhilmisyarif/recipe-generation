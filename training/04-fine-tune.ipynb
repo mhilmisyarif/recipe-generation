{
 "cells": [
  {
   "cell_type": "code",
   "execution_count": 1,
   "metadata": {},
   "outputs": [],
   "source": [
    "import os\n",
    "from src.save import save\n",
    "import warnings\n",
    "warnings.filterwarnings('ignore')"
   ]
  },
  {
   "cell_type": "code",
   "execution_count": 4,
   "metadata": {},
   "outputs": [
    {
     "name": "stderr",
     "output_type": "stream",
     "text": [
      "d:\\SKIRPSI\\Project\\indo-recipe-generation\\venv36\\lib\\site-packages\\tensorflow\\python\\framework\\dtypes.py:523: FutureWarning: Passing (type, 1) or '1type' as a synonym of type is deprecated; in a future version of numpy, it will be understood as (type, (1,)) / '(1,)type'.\n",
      "  _np_qint8 = np.dtype([(\"qint8\", np.int8, 1)])\n",
      "d:\\SKIRPSI\\Project\\indo-recipe-generation\\venv36\\lib\\site-packages\\tensorflow\\python\\framework\\dtypes.py:524: FutureWarning: Passing (type, 1) or '1type' as a synonym of type is deprecated; in a future version of numpy, it will be understood as (type, (1,)) / '(1,)type'.\n",
      "  _np_quint8 = np.dtype([(\"quint8\", np.uint8, 1)])\n",
      "d:\\SKIRPSI\\Project\\indo-recipe-generation\\venv36\\lib\\site-packages\\tensorflow\\python\\framework\\dtypes.py:525: FutureWarning: Passing (type, 1) or '1type' as a synonym of type is deprecated; in a future version of numpy, it will be understood as (type, (1,)) / '(1,)type'.\n",
      "  _np_qint16 = np.dtype([(\"qint16\", np.int16, 1)])\n",
      "d:\\SKIRPSI\\Project\\indo-recipe-generation\\venv36\\lib\\site-packages\\tensorflow\\python\\framework\\dtypes.py:526: FutureWarning: Passing (type, 1) or '1type' as a synonym of type is deprecated; in a future version of numpy, it will be understood as (type, (1,)) / '(1,)type'.\n",
      "  _np_quint16 = np.dtype([(\"quint16\", np.uint16, 1)])\n",
      "d:\\SKIRPSI\\Project\\indo-recipe-generation\\venv36\\lib\\site-packages\\tensorflow\\python\\framework\\dtypes.py:527: FutureWarning: Passing (type, 1) or '1type' as a synonym of type is deprecated; in a future version of numpy, it will be understood as (type, (1,)) / '(1,)type'.\n",
      "  _np_qint32 = np.dtype([(\"qint32\", np.int32, 1)])\n",
      "d:\\SKIRPSI\\Project\\indo-recipe-generation\\venv36\\lib\\site-packages\\tensorflow\\python\\framework\\dtypes.py:532: FutureWarning: Passing (type, 1) or '1type' as a synonym of type is deprecated; in a future version of numpy, it will be understood as (type, (1,)) / '(1,)type'.\n",
      "  np_resource = np.dtype([(\"resource\", np.ubyte, 1)])\n",
      "Traceback (most recent call last):\n",
      "  File \"train_ppl_pickle.py\", line 330, in <module>\n",
      "    main()\n",
      "  File \"train_ppl_pickle.py\", line 81, in main\n",
      "    enc = encoder.get_encoder(args.model_name)\n",
      "  File \"d:\\SKIRPSI\\Project\\indo-recipe-generation\\notebooks\\src\\encoder.py\", line 108, in get_encoder\n",
      "    with open(os.path.join('D:\\SKIRPSI\\Project\\indo-recipe-generation\\model', model_name, 'vocab.json'), 'r', encoding=\"utf-8\") as f:\n",
      "FileNotFoundError: [Errno 2] No such file or directory: \"D:\\\\SKIRPSI\\\\Project\\\\indo-recipe-generation\\\\model\\\\'522M'\\\\vocab.json\"\n"
     ]
    }
   ],
   "source": [
    "python train_ppl_pickle.py --dataset ../files/chunk.train --model_name '117M' --val_dataset ../files/chunk.val --val_every 50 --sample_every 50 --max_length 512 --batch_size 5 --val_batch_count 100 --run_name deployed --learning_rate 1e-4"
   ]
  },
  {
   "cell_type": "code",
   "execution_count": null,
   "metadata": {},
   "outputs": [],
   "source": []
  }
 ],
 "metadata": {
  "kernelspec": {
   "display_name": "Python 3.6.0 ('venv36': venv)",
   "language": "python",
   "name": "python3"
  },
  "language_info": {
   "codemirror_mode": {
    "name": "ipython",
    "version": 3
   },
   "file_extension": ".py",
   "mimetype": "text/x-python",
   "name": "python",
   "nbconvert_exporter": "python",
   "pygments_lexer": "ipython3",
   "version": "3.6.8"
  },
  "orig_nbformat": 4,
  "vscode": {
   "interpreter": {
    "hash": "b175e41972c08f9b3311749fa02466d2b66010157b9cd6543a2b8bbc0e0b2817"
   }
  }
 },
 "nbformat": 4,
 "nbformat_minor": 2
}
